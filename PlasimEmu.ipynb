{
 "cells": [
  {
   "cell_type": "markdown",
   "id": "63c2965f-48f3-4808-adb6-1798857e7139",
   "metadata": {
    "editable": true,
    "slideshow": {
     "slide_type": ""
    },
    "tags": []
   },
   "source": [
    "Trey's fine imports"
   ]
  },
  {
   "cell_type": "code",
   "execution_count": 1,
   "id": "8d1bdc37-b04a-4df0-b035-3f2541e0a207",
   "metadata": {},
   "outputs": [],
   "source": [
    "#!/usr/bin/env python\n",
    "# coding: utf-8\n",
    "\n",
    "import numpy as np\n",
    "import netCDF4 as nc\n",
    "import matplotlib.pyplot as plt\n",
    "from scipy.optimize import curve_fit as cf"
   ]
  },
  {
   "cell_type": "markdown",
   "id": "71af74f7-1e75-4100-8d3f-d8bbcd44856e",
   "metadata": {},
   "source": [
    "NetCDF4 file reading stuffs"
   ]
  },
  {
   "cell_type": "code",
   "execution_count": 2,
   "id": "c5799e20-1219-4750-a51f-fb79368c7f49",
   "metadata": {},
   "outputs": [],
   "source": [
    "#ERA5 files\n",
    "eraf1 = \"ERA5comparisonData/prt_1971_2000_ERA5_monthly_T42.nc\"\n",
    "\n",
    "\n",
    "#PlaSim output files\n",
    "file1   = \"PLASIMoutputData/gmst_r0hv1_yrmean.nc\"\n",
    "file2   = 'PLASIMoutputData/gmst_r0hv2_yrmean.nc'\n",
    "file3   = 'PLASIMoutputData/gmst_r0hv3_yrmean.nc'\n",
    "\n",
    "file_list = [file1, file2, file3]\n",
    "\n",
    "\n",
    "\n",
    "\n",
    "#sizing stuffs\n",
    "fileListLen = len(file_list)\n",
    "##grabbing the size info from one file to know the number of years\n",
    "a = nc.Dataset(file1)\n",
    "b = a.variables['time'][:]\n",
    "fileLen = len(b)"
   ]
  },
  {
   "cell_type": "code",
   "execution_count": 3,
   "id": "6a675c98-e38b-4f82-bdfc-cd60bf00ebfc",
   "metadata": {},
   "outputs": [],
   "source": [
    "#empty array creation, expecting 3 files in the list\n",
    "dataRRay = np.zeros((fileLen, 2, fileListLen))\n",
    "\n",
    "#loop over the datasets to read them into an array. Each file becomes a 2d slice of the 3d array like [year in hrs, dataPt]\n",
    "for datasetNum in range(len(file_list)):\n",
    "    #grabbing individual dataset\n",
    "    set = nc.Dataset(file_list[datasetNum])\n",
    "\n",
    "    #getting the data into the array, line by line\n",
    "    for dataPt in range(fileLen):\n",
    "\n",
    "        #convert the time format from hours to years\n",
    "        timeInHrs = set.variables['time'][dataPt]\n",
    "        if timeInHrs/8652 < 1:\n",
    "            timeInYrs = 0\n",
    "        else:\n",
    "            timeInYrs = np.round(timeInHrs/8652)\n",
    "\n",
    "        #fill years into the 0th array column\n",
    "        dataRRay[dataPt, 0, datasetNum] = timeInYrs\n",
    "\n",
    "        #fill in temp data to the 1st col of array\n",
    "        dataRRay[dataPt, 1, datasetNum] = set.variables['tas'][dataPt]\n",
    "\n",
    "#subtracted, avg of the ensemble members for later comparison\n",
    "avgDataArr = np.average(dataRRay, axis=2)\n",
    "avgDataArr[:,1] -= 285"
   ]
  },
  {
   "cell_type": "markdown",
   "id": "03f6c0e6-7de9-430d-a434-bdd50516dea8",
   "metadata": {},
   "source": [
    "Sanity check plots"
   ]
  },
  {
   "cell_type": "code",
   "execution_count": 4,
   "id": "d700513d-ad96-4fda-ba91-aa4da55e4f57",
   "metadata": {},
   "outputs": [],
   "source": [
    "# plt.plot(dataRRay[:,0,0], dataRRay[:,1,0]-285, \"or\")\n",
    "# plt.plot(dataRRay[:,0,1], dataRRay[:,1,1]-285, \"xg\")\n",
    "# plt.plot(dataRRay[:,0,2], dataRRay[:,1,2]-285, \".b\")\n",
    "# plt.plot(avgDataArr[:,0], avgDataArr[:,1])\n",
    "# plt.show()\n",
    "\n",
    "#print(dataRRay[:,:,0])"
   ]
  },
  {
   "cell_type": "markdown",
   "id": "4117bf83-cbfa-4c03-bd96-06e238c93f69",
   "metadata": {},
   "source": [
    "Actual 'emulation' calculation stuff"
   ]
  },
  {
   "cell_type": "code",
   "execution_count": 9,
   "id": "f64da20b-944b-4090-be22-21a6f5200855",
   "metadata": {},
   "outputs": [],
   "source": [
    "#consts and vars\n",
    "k = 3.74 #W/m^2 forcing const\n",
    "t = int(fileLen) #years in a file\n",
    "\n",
    "#CO2 reference amount\n",
    "seaOhTwo = 285.8 #ppm\n",
    "\n",
    "#standard settings !!!\n",
    "q1 = 0.33 #K/(W/m^2)\n",
    "q2 = 0.41 #K/(W/m^2)\n",
    "d1 = 239 #years\n",
    "d2 = 4.1 #years\n",
    "paramList = [q1, q2, d1, d2]\n",
    "\n",
    "#CO2 ref array creation and population, rows: [time, concentration]\n",
    "co2_0 = np.ones((t, 2), dtype=float)\n",
    "#set the data to the ref value\n",
    "co2_0[:,1] *= seaOhTwo\n",
    "#fix the first year\n",
    "co2_0[0,0] = 0.0\n",
    "#fix the rest of the years\n",
    "for yr in range(1, t):\n",
    "    co2_0[yr,0] = yr\n",
    "\n",
    "\n",
    "#CO2 half pulse at t=0 array\n",
    "co2HF = np.array(co2_0)\n",
    "co2HF[0,1] = 0.5*seaOhTwo\n",
    "#so year 0 has half of the CO2 concentration of the other years\n",
    "\n",
    "#CO2 doubling pulse arr\n",
    "co2dub = np.array(co2_0)\n",
    "co2dub[0,1] += seaOhTwo\n",
    "\n",
    "#CO2 quadrupling arr\n",
    "co2quad = np.array(co2_0)\n",
    "co2quad[0,1] += 3*seaOhTwo\n",
    "\n",
    "#!!! These ones are supposed to be longer\n",
    "\n",
    "#sudden CO2 doubling array\n",
    "sudDubCO2 = np.array(co2_0)\n",
    "sudDubCO2[4:,1] += seaOhTwo\n",
    "\n",
    "#1% increase per year\n",
    "onePerArr = np.array(co2_0, dtype=\"double\")\n",
    "for y in range(1, len(onePerArr[:,0])):\n",
    "    onePerArr[y, 1] = 0.01*onePerArr[y-1, 1] + onePerArr[y-1,1]\n",
    "\n",
    "\n",
    "#Response and rad forcing in one func\n",
    "def WomboCombo(xData, que1, que2, dee1, dee2):\n",
    "    \n",
    "    #changes to different concentration array cases based on the c arg\n",
    "    global c\n",
    "        \n",
    "    #Clear out summa for next run\n",
    "    summa = np.zeros(t, dtype=float)\n",
    "    \n",
    "    #forcing_0\n",
    "    F = (3.74/np.log(2))*np.log(c[0]/seaOhTwo)\n",
    "    \n",
    "    #print(\"F:\" + str(F))\n",
    "    \n",
    "    #Calculate the sum\n",
    "    for i in range(0,t):\n",
    "        summa[i] = F * ((que1/dee1)*np.exp(-i/dee1)+(que2/dee2)*np.exp(-i/dee2))\n",
    "            \n",
    "        #print(\"sum: \" +str(summa[i]))\n",
    "    return summa\n",
    "    \n",
    "#idiot check\n",
    "#c = co2HF[:,1]\n",
    "#plt.plot(WomboCombo(avgDataArr[:,0], paramList[0], paramList[1], paramList[2], paramList[3]))"
   ]
  },
  {
   "cell_type": "markdown",
   "id": "06629b10-4cbe-4bf2-8111-58fb3e643460",
   "metadata": {},
   "source": [
    "Optimization code"
   ]
  },
  {
   "cell_type": "code",
   "execution_count": 13,
   "id": "345c6af7-7d10-4598-a404-efa1f16192bb",
   "metadata": {},
   "outputs": [
    {
     "name": "stdout",
     "output_type": "stream",
     "text": [
      "OG Params: [0.33, 0.41, 239, 4.1]\n",
      "half pulse updated: [-5.40648567e+02  2.46588078e-01  2.59938661e+03  2.10023962e+00]\n"
     ]
    },
    {
     "data": {
      "image/png": "[encoded data removed]",
      "text/plain": [
       "<Figure size 640x480 with 1 Axes>"
      ]
     },
     "metadata": {},
     "output_type": "display_data"
    },
    {
     "name": "stdout",
     "output_type": "stream",
     "text": [
      "double pulse updated: [-1.13010267e+07 -2.39734210e-01 -5.46415700e+07  2.05941567e+00]\n"
     ]
    },
    {
     "data": {
      "image/png": "[encoded data removed]",
      "text/plain": [
       "<Figure size 640x480 with 1 Axes>"
      ]
     },
     "metadata": {},
     "output_type": "display_data"
    },
    {
     "name": "stdout",
     "output_type": "stream",
     "text": [
      "quad pulse updated: [ 2.70316112e+02 -1.23294115e-01  2.59930761e+03  2.10024031e+00]\n"
     ]
    },
    {
     "data": {
      "image/png": "[encoded data removed]",
      "text/plain": [
       "<Figure size 640x480 with 1 Axes>"
      ]
     },
     "metadata": {},
     "output_type": "display_data"
    }
   ],
   "source": [
    "#functionalize this for calling each pulse type\n",
    "\n",
    "#sanity checking that all of the parameters aren't changed\n",
    "print(\"OG Params: \" + str(paramList))\n",
    "\n",
    "#halving pulse\n",
    "plt.plot(avgDataArr[:,0], avgDataArr[:,1], \".b\", label = \"avg'd Ensemble data\")\n",
    "c = co2HF[:,1]\n",
    "optParamsHalf, covarMat = cf(WomboCombo, avgDataArr[:,0], avgDataArr[:,1], p0=paramList)#, method=\"lm\")\n",
    "print('half pulse updated: ' + str(optParamsHalf))\n",
    "plt.plot(avgDataArr[:,0], WomboCombo(avgDataArr[:,0], optParamsHalf[0], optParamsHalf[1], optParamsHalf[2], optParamsHalf[3]), \"-r\", label=\"Emulator\")\n",
    "plt.xlabel(\"Time\\n(years)\")\n",
    "plt.ylabel(\"Temp\\n(K)\")\n",
    "plt.legend()\n",
    "plt.show()\n",
    "\n",
    "#doubling pulse\n",
    "c = co2dub[:,1]\n",
    "optParamsDub, covarMat = cf(WomboCombo, avgDataArr[:,0], avgDataArr[:,1], paramList)\n",
    "print(\"double pulse updated: \" + str(optParamsDub))\n",
    "plt.plot(avgDataArr[:,0], WomboCombo(avgDataArr[:,0], optParamsHalf[0], optParamsHalf[1], optParamsHalf[2], optParamsHalf[3]), \"-r\", label=\"Emulator\")\n",
    "plt.xlabel(\"Time\\n(years)\")\n",
    "plt.ylabel(\"Temp\\n(K)\")\n",
    "plt.legend()\n",
    "plt.show()\n",
    "\n",
    "#quad'ing pulse\n",
    "c = co2quad[:,1]\n",
    "optParamsQuad, covarMat = cf(WomboCombo, avgDataArr[:,0], avgDataArr[:,1], paramList)\n",
    "print(\"quad pulse updated: \" + str(optParamsQuad))\n",
    "plt.plot(avgDataArr[:,0], WomboCombo(avgDataArr[:,0], optParamsHalf[0], optParamsHalf[1], optParamsHalf[2], optParamsHalf[3]), \"-r\", label=\"Emulator\")\n",
    "plt.xlabel(\"Time\\n(years)\")\n",
    "plt.ylabel(\"Temp\\n(K)\")\n",
    "plt.legend()\n",
    "plt.show()"
   ]
  },
  {
   "cell_type": "code",
   "execution_count": 14,
   "id": "96b54e7e-3526-4993-a724-c50eabc1cd1f",
   "metadata": {
    "editable": true,
    "slideshow": {
     "slide_type": ""
    },
    "tags": []
   },
   "outputs": [
    {
     "name": "stdout",
     "output_type": "stream",
     "text": [
      "ECS: 2.7676000000000003\n",
      "TCR: 0.5503006741251132\n",
      "RWF 0.1988367806493399\n"
     ]
    }
   ],
   "source": [
    "#ECS and TCR calculation\n",
    "ECS = k*(q1+q2)\n",
    "print(\"ECS: \" +str(ECS))\n",
    "\n",
    "TCR = k*(q1*(1-(d1/70)*(1-np.exp(-70/d1)))) + q2*(1-(d2/70)*(1-np.exp(-70/d2)))\n",
    "print(\"TCR: \" + str(TCR))\n",
    "\n",
    "RWF = str(TCR/ECS)\n",
    "print(\"RWF \" + RWF)"
   ]
  },
  {
   "cell_type": "code",
   "execution_count": null,
   "id": "01eee257-097d-4727-b027-482d466c34cb",
   "metadata": {},
   "outputs": [],
   "source": []
  }
 ],
 "metadata": {
  "kernelspec": {
   "display_name": "Python 3 (ipykernel)",
   "language": "python",
   "name": "python3"
  },
  "language_info": {
   "codemirror_mode": {
    "name": "ipython",
    "version": 3
   },
   "file_extension": ".py",
   "mimetype": "text/x-python",
   "name": "python",
   "nbconvert_exporter": "python",
   "pygments_lexer": "ipython3",
   "version": "3.11.7"
  }
 },
 "nbformat": 4,
 "nbformat_minor": 5
}
