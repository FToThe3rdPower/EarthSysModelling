{
 "cells": [
  {
   "cell_type": "code",
   "execution_count": 11,
   "id": "710d61bf-287d-48bd-b6eb-14e34e4a27d9",
   "metadata": {
    "tags": []
   },
   "outputs": [],
   "source": [
    "import xarray as xr\n",
    "import matplotlib as mpl\n",
    "import matplotlib.pyplot as plt\n",
    "import netCDF4 as nc\n",
    "import numpy as np\n",
    "import cartopy.crs as ccrs\n",
    "import cartopy\n",
    "from cartopy.mpl.ticker import LongitudeFormatter, LatitudeFormatter"
   ]
  },
  {
   "cell_type": "code",
   "execution_count": 12,
   "id": "cebd3899-0c9e-47e9-bc98-2bf7965eb619",
   "metadata": {
    "tags": []
   },
   "outputs": [],
   "source": [
    "# nice figures\n",
    "mpl.rcParams['figure.facecolor'] = 'white'\n",
    "mpl.rcParams['figure.dpi']= 150\n",
    "mpl.rcParams['font.size'] = 12"
   ]
  },
  {
   "cell_type": "code",
   "execution_count": 15,
   "id": "37b2f5b8-3979-40f3-8057-e76c8794a597",
   "metadata": {
    "tags": []
   },
   "outputs": [],
   "source": [
    "dw = nc.Dataset(\"gmrlut_r0hv1_yrmean.nc\")\n",
    "\n",
    "# dim0=time, dim1=lat, dim2=lon\n",
    "ds = xr.open_dataset ('gmrlut_r0hv1_yrmean.nc') #('prt_1971_2000_ERA5_monthly_T42.nc')\n",
    "# unit conversion (read the ERA5 dataset description for details)\n",
    "ds\n",
    "\n",
    "prt_ERA5 = (ds.var228 / (3600*24)).to_numpy()\n",
    "\n",
    "ds1 = xr.open_dataset('prc_1971_2000_PLASIM_monthly_T42.nc')\n",
    "ds2 = xr.open_dataset('prl_1971_2000_PLASIM_monthly_T42.nc')\n",
    "# by definition, prt = prc+prl (read the ERA5 dataset description for details)\n",
    "prt_PLASIM = (ds1.prc+ds2.prl).to_numpy()"
   ]
  },
  {
   "cell_type": "code",
   "execution_count": null,
   "id": "ca378d3b-9aaa-4772-9628-32da2b68311a",
   "metadata": {
    "tags": []
   },
   "outputs": [],
   "source": [
    "prt_ERA5.shape\n",
    "prt_PLASIM.shape"
   ]
  },
  {
   "cell_type": "code",
   "execution_count": null,
   "id": "e1efde8a-7636-4efa-93f0-5198d5154d85",
   "metadata": {
    "tags": []
   },
   "outputs": [],
   "source": [
    "# global template\n",
    "def mapplot(var,tt,clabel,res='T42'):\n",
    "    fig = plt.figure(figsize=(15,6))\n",
    "    ax = plt.axes(projection=ccrs.PlateCarree())\n",
    "    ax.set_global()\n",
    "    ax.coastlines(lw=0.5)\n",
    "    \n",
    "    # x_extent = [-180, -120, -60, 0, 60, 120, 180]\n",
    "    # y_extent = [-90,-60, -30, 0, 30, 60,90]\n",
    "    lonmin = -180\n",
    "    lonmax = 180\n",
    "    latmin = -90\n",
    "    latmax = 90\n",
    "    x_extent = np.linspace(lonmin,lonmax,7)\n",
    "    y_extent = np.linspace(latmin,latmax,7)\n",
    "    ax.set_xticks(x_extent,crs=ccrs.PlateCarree())\n",
    "    ax.set_yticks(y_extent,crs=ccrs.PlateCarree())\n",
    "    lon_formatter = LongitudeFormatter()\n",
    "    lat_formatter = LatitudeFormatter()\n",
    "    ax.xaxis.set_major_formatter(lon_formatter)\n",
    "    ax.yaxis.set_major_formatter(lat_formatter)\n",
    "    \n",
    "    # T42 (T21 to be updated)\n",
    "    lonnum = 128\n",
    "    latnum = 64\n",
    "    lon = np.arange(-180,180.1,360/lonnum)\n",
    "    lat = np.array([ 87.863799,  85.096527,  82.312913,  79.525607,  76.7369  ,  73.947515,\n",
    "        71.157752,  68.367756,  65.577607,  62.787352,  59.99702 ,  57.206632,\n",
    "        54.4162  ,  51.625734,  48.835241,  46.044727,  43.254195,  40.463648,\n",
    "        37.67309 ,  34.882521,  32.091944,  29.30136 ,  26.510769,  23.720174,\n",
    "        20.929574,  18.138971,  15.348365,  12.557756,   9.767146,   6.976534,\n",
    "         4.185921,   1.395307,  -1.395307,  -4.185921,  -6.976534,  -9.767146,\n",
    "       -12.557756, -15.348365, -18.138971, -20.929574, -23.720174, -26.510769,\n",
    "       -29.30136 , -32.091944, -34.882521, -37.67309 , -40.463648, -43.254195,\n",
    "       -46.044727, -48.835241, -51.625734, -54.4162  , -57.206632, -59.99702 ,\n",
    "       -62.787352, -65.577607, -68.367756, -71.157752, -73.947515, -76.7369  ,\n",
    "       -79.525607, -82.312913, -85.096527, -87.863799])\n",
    "    # Convert lat/lon to map coordinates\n",
    "    Lon, Lat = np.meshgrid(lon, lat)\n",
    "\n",
    "    # Plot the data\n",
    "    var = np.roll(np.mean(var,0),int(lonnum/2),1)\n",
    "    # fill the blank 180E (only useful for global plots)\n",
    "    np.append(var,var[:,0].reshape(latnum,1),axis=1)\n",
    "    pm = ax.pcolormesh(Lon, Lat, var, cmap=plt.cm.jet, vmin=0, vmax=2e-7)\n",
    "\n",
    "    # Add a colorbar\n",
    "    cb = plt.colorbar(pm, label=r\"%s\"%clabel, orientation=\"vertical\")\n",
    "\n",
    "    ax.set_title(r\"%s\"%tt)\n",
    "    ax.set_aspect('auto')\n",
    "    # plt.savefig(\"figs/%s\"%tt, bbox_inches='tight')\n",
    "    plt.show()\n",
    "\n",
    "mapplot(prt_ERA5,'mean total precipitation in ERA5 (1971-2000)','total precipitation [m/s]')\n",
    "mapplot(prt_PLASIM,'mean total precipitation in PLASIM (1971-2000)','total precipitation [m/s]')\n",
    "mapplot((prt_ERA5-prt_PLASIM)/prt_ERA5,'mean total precipitation diff in ERA5 and PLASIM (1971-2000)','total precipitation [m/s]')"
   ]
  },
  {
   "cell_type": "code",
   "execution_count": null,
   "id": "0b68428b-e77d-4bb1-8e36-050ec660903c",
   "metadata": {
    "tags": []
   },
   "outputs": [],
   "source": [
    "# regional template\n",
    "def mapplot(var,tt,clabel,res='T42'):\n",
    "    fig = plt.figure(figsize=(15,6))\n",
    "    ax = plt.axes(projection=ccrs.PlateCarree())\n",
    "    ax.set_global()\n",
    "    ax.coastlines(lw=0.5)\n",
    "    \n",
    "    # x_extent = [-180, -120, -60, 0, 60, 120, 180]\n",
    "    # y_extent = [-90,-60, -30, 0, 30, 60,90]\n",
    "    lonmin = -10\n",
    "    lonmax = 22\n",
    "    latmin = 35\n",
    "    latmax = 48\n",
    "    x_extent = np.linspace(lonmin,lonmax,7)\n",
    "    y_extent = np.linspace(latmin,latmax,7)\n",
    "    ax.set_xticks(x_extent,crs=ccrs.PlateCarree())\n",
    "    ax.set_yticks(y_extent,crs=ccrs.PlateCarree())\n",
    "    lon_formatter = LongitudeFormatter()\n",
    "    lat_formatter = LatitudeFormatter()\n",
    "    ax.xaxis.set_major_formatter(lon_formatter)\n",
    "    ax.yaxis.set_major_formatter(lat_formatter)\n",
    "    \n",
    "    # T42 (T21 to be updated)\n",
    "    lonnum = 128\n",
    "    latnum = 64\n",
    "    lon = np.arange(-180,180.1,360/lonnum)\n",
    "    lat = np.array([ 87.863799,  85.096527,  82.312913,  79.525607,  76.7369  ,  73.947515,\n",
    "        71.157752,  68.367756,  65.577607,  62.787352,  59.99702 ,  57.206632,\n",
    "        54.4162  ,  51.625734,  48.835241,  46.044727,  43.254195,  40.463648,\n",
    "        37.67309 ,  34.882521,  32.091944,  29.30136 ,  26.510769,  23.720174,\n",
    "        20.929574,  18.138971,  15.348365,  12.557756,   9.767146,   6.976534,\n",
    "         4.185921,   1.395307,  -1.395307,  -4.185921,  -6.976534,  -9.767146,\n",
    "       -12.557756, -15.348365, -18.138971, -20.929574, -23.720174, -26.510769,\n",
    "       -29.30136 , -32.091944, -34.882521, -37.67309 , -40.463648, -43.254195,\n",
    "       -46.044727, -48.835241, -51.625734, -54.4162  , -57.206632, -59.99702 ,\n",
    "       -62.787352, -65.577607, -68.367756, -71.157752, -73.947515, -76.7369  ,\n",
    "       -79.525607, -82.312913, -85.096527, -87.863799])\n",
    "    lonidx = np.where((lon>=lonmin) & (lon<=lonmax))[0]\n",
    "    latidx = np.where((lat>=latmin) & (lat<=latmax))[0]\n",
    "    lon = lon[lonidx]\n",
    "    lat = lat[latidx]\n",
    "    # Convert lat/lon to map coordinates\n",
    "    Lon, Lat = np.meshgrid(lon, lat)\n",
    "\n",
    "    # Plot the data\n",
    "    var = np.roll(np.mean(var,0),int(lonnum/2),1)\n",
    "    # # fill the blank 180E (only useful for global plots)\n",
    "    # np.append(var,var[:,0].reshape(latnum,1),axis=1)\n",
    "    var = var[latidx,:][:,lonidx]\n",
    "    pm = ax.pcolormesh(Lon, Lat, var, cmap=plt.cm.jet, vmin=0, vmax=2e-7)\n",
    "\n",
    "    # Add a colorbar\n",
    "    cb = plt.colorbar(pm, label=r\"%s\"%clabel, orientation=\"vertical\")\n",
    "    \n",
    "    plt.xlim(lonmin,lonmax)\n",
    "    plt.ylim(latmin,latmax)\n",
    "\n",
    "    ax.set_title(r\"%s\"%tt)\n",
    "    ax.set_aspect('auto')\n",
    "    # plt.savefig(\"figs/%s\"%tt, bbox_inches='tight')\n",
    "    plt.show()\n",
    "\n",
    "mapplot(prt_ERA5,'mean total precipitation in ERA5 (1971-2000)','total precipitation [m/s]')\n",
    "mapplot(prt_PLASIM,'mean total precipitation in PLASIM (1971-2000)','total precipitation [m/s]')"
   ]
  },
  {
   "cell_type": "code",
   "execution_count": 2,
   "id": "d75dc11a-a3e6-4ea8-92ca-05185ce20acb",
   "metadata": {
    "tags": []
   },
   "outputs": [],
   "source": [
    "# !jupyter nbconvert --to script template.ipynb"
   ]
  },
  {
   "cell_type": "code",
   "execution_count": null,
   "id": "1b2d6a68-94bb-470a-b089-bb4efcb52218",
   "metadata": {},
   "outputs": [],
   "source": []
  }
 ],
 "metadata": {
  "kernelspec": {
   "display_name": "Python 3 (ipykernel)",
   "language": "python",
   "name": "python3"
  },
  "language_info": {
   "codemirror_mode": {
    "name": "ipython",
    "version": 3
   },
   "file_extension": ".py",
   "mimetype": "text/x-python",
   "name": "python",
   "nbconvert_exporter": "python",
   "pygments_lexer": "ipython3",
   "version": "3.11.7"
  }
 },
 "nbformat": 4,
 "nbformat_minor": 5
}
